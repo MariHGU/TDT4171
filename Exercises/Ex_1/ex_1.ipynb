{
 "cells": [
  {
   "cell_type": "markdown",
   "metadata": {},
   "source": [
    "# Task 1\n",
    "\n",
    "### a\n",
    "\n",
    "### b"
   ]
  },
  {
   "cell_type": "code",
   "execution_count": 21,
   "metadata": {},
   "outputs": [
    {
     "name": "stdout",
     "output_type": "stream",
     "text": [
      "The mean number of plays is 9455.1503\n",
      "The median number of plays is 30.0\n"
     ]
    },
    {
     "data": {
      "image/png": "[encoded data removed]",
      "text/plain": [
       "<Figure size 640x480 with 1 Axes>"
      ]
     },
     "metadata": {},
     "output_type": "display_data"
    }
   ],
   "source": [
    "import numpy as np\n",
    "import matplotlib.pyplot as plt\n",
    "import random\n",
    "\n",
    "n_coins = 10\n",
    "\n",
    "probabilities = [1/64, 1/64, 1/64, 1/64, 4/64, 16/64, 0.625]\n",
    "rewards = [20, 15, 5, 3, 2, 1, 0]\n",
    "\n",
    "def simulation(prob, rew, start_coins, max_plays):\n",
    "    coins = start_coins\n",
    "    plays = 0\n",
    "    while coins > 0 and plays < max_plays:\n",
    "        coins -= 1\n",
    "        plays += 1\n",
    "\n",
    "        reward = random.choices(rew, prob)[0]\n",
    "        coins += reward\n",
    "    return plays\n",
    "\n",
    "trials = 10000\n",
    "results = [simulation(probabilities, rewards, n_coins, 100000) for _ in range(trials)]\n",
    "\n",
    "mean = np.mean(results)\n",
    "median = np.median(results)\n",
    "\n",
    "print(f'The mean number of plays is {mean}')\n",
    "print(f'The median number of plays is {median}')\n",
    "\n",
    "\n",
    "plt.hist(results, bins=30, log=True)\n",
    "plt.show()\n",
    "\n",
    "\n",
    "    \n",
    "\n"
   ]
  },
  {
   "cell_type": "markdown",
   "metadata": {},
   "source": [
    "I ended up usisn a maximum number of plays to 100 000 plays, as to decrease compilation times. I also added a logarithmic scale as to better visualize the spreading. From the results we notice a drasticly different result in the median and mean values. This, along with the histogram plot shows us that the majority of all plays end after around 30 plays, however we can also see that quite a few only end after reaching the maximum number of plays. In reality these would likely spread out, with very few ending up with the exact same number of plays, but the forced cut-off causes them to end up in a larger bunch. "
   ]
  },
  {
   "cell_type": "markdown",
   "metadata": {},
   "source": [
    "### Task 3\n",
    "\n",
    "*Part 1*"
   ]
  },
  {
   "cell_type": "code",
   "execution_count": null,
   "metadata": {},
   "outputs": [],
   "source": [
    "def sameBirthdayProb(n):\n",
    "    days = 365\n",
    "    prob = 0\n",
    "    return prob"
   ]
  }
 ],
 "metadata": {
  "kernelspec": {
   "display_name": "new_env",
   "language": "python",
   "name": "python3"
  },
  "language_info": {
   "codemirror_mode": {
    "name": "ipython",
    "version": 3
   },
   "file_extension": ".py",
   "mimetype": "text/x-python",
   "name": "python",
   "nbconvert_exporter": "python",
   "pygments_lexer": "ipython3",
   "version": "3.11.9"
  }
 },
 "nbformat": 4,
 "nbformat_minor": 2
}
